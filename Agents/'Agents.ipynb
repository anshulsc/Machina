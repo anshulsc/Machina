{
  "nbformat": 4,
  "nbformat_minor": 0,
  "metadata": {
    "colab": {
      "provenance": [],
      "gpuType": "T4"
    },
    "kernelspec": {
      "name": "python3",
      "display_name": "Python 3"
    },
    "language_info": {
      "name": "python"
    },
    "accelerator": "GPU"
  },
  "cells": [
    {
      "cell_type": "code",
      "source": [
        "#!pip install openai"
      ],
      "metadata": {
        "id": "UIWj4QGv1NVl"
      },
      "execution_count": 1,
      "outputs": []
    },
    {
      "cell_type": "code",
      "execution_count": 3,
      "metadata": {
        "id": "SsJJpG8kyEms"
      },
      "outputs": [],
      "source": [
        "import openai\n",
        "\n",
        "# Single Agent with GPT 3.5 maintains State and uses it to generate prompts\n",
        "class ConverestionAgent:\n",
        "  def __init__(self, api_key, role):\n",
        "    self.api_key = api_key\n",
        "    self.role = role\n",
        "    self.conversation_histroy = []\n",
        "    openai.api_key = self.api_key\n",
        "\n",
        "  def add_to_conversation(self, message):\n",
        "    self.conversation_history.append(message)\n",
        "\n",
        "  def generate_prompt(self):\n",
        "    prompt    = f'The following is the conversation with an AI playing the role of {self.role}.\\n'\n",
        "    for message in self.conversation_history:\n",
        "      prompt += message + \"\\n\"\n",
        "      return prompt\n",
        "\n",
        "  def perform_task(self, user_message):\n",
        "    self.add_to_conversation(f'User: {user_message}')\n",
        "    prompt = self.generate_prompt()\n",
        "    response = openai.Completion.create(engine = 'text-davinci-003',\n",
        "                                        prompt = prompt,\n",
        "                                        max_tokens = 500)\n",
        "    self.add_to_conversation(f'AI: {response.choices[0].text.strip()}')\n",
        "    return response.choices[0].text.strip()\n"
      ]
    },
    {
      "cell_type": "code",
      "source": [],
      "metadata": {
        "id": "xnG5Qi8I1fxP"
      },
      "execution_count": null,
      "outputs": []
    },
    {
      "cell_type": "markdown",
      "source": [
        "An actual Agent could be much more comple, with additional logic for interpretting the LLM's response, managing multiple tasks, interacting with other agents, and more\n",
        "\n",
        "# 2 Agents\n"
      ],
      "metadata": {
        "id": "N6gM4Cuw15uG"
      }
    },
    {
      "cell_type": "code",
      "source": [
        "import openai\n",
        "\n",
        "class UserAgent:\n",
        "  def __init__(self, api_key):\n",
        "    self.api_key = api_key\n",
        "    openai.api_key = self.api_key\n",
        "\n",
        "  def ask_question(self, question):\n",
        "    return f'User: {question}'\n",
        "\n",
        "class HelpdeskAgent:\n",
        "  def __init__(self, api_key):\n",
        "    self.api_key = api_key\n",
        "    self.conversation_history = []\n",
        "    openai.api_key = self.api_key\n",
        "\n",
        "  def add_to_conervsation(self,message):\n",
        "    self.conversation_history.append(message)\n",
        "\n",
        "\n",
        "  def generate_prompt(self):\n",
        "    prompt    = f'The following is the conversation with an HelpDesk AI '\n",
        "    for message in self.conversation_history:\n",
        "      prompt += message + \"\\n\"\n",
        "      return prompt\n",
        "\n",
        "  def escalate_issue(self, issue):\n",
        "    print(f'Issue escalted: {issue}')\n",
        "\n",
        "\n",
        "  def answer_question(self, user_message):\n",
        "    self.add_to_conversation(user_message)\n",
        "    prompt = self.generate_prompt()\n",
        "    response = openai.Completion.create(engine='text-davinci-003', prompt=prompt, max_tokens=100)\n",
        "    ai_response = response.choices[0].text.strip()\n",
        "    self.add_to_conversation(f\"AI: {ai_response} \")\n",
        "\n",
        "    if 'I\"m not sure' in ai_response:\n",
        "      self.escalate_issue(user_message)\n",
        "\n",
        "    return ai_response\n",
        "\n",
        "\n",
        "\n",
        "user_agent = UserAgent(\"openai-api-key\")\n",
        "helpdesk_agent = HelpdeskAgent(\"openai-api-key \")\n",
        "\n",
        "question = user_agent.ask_question(\"What is API?\")\n",
        "answer = helpdesk_agent.answer_question(question)\n",
        "\n"
      ],
      "metadata": {
        "id": "sgU3gQxf2OtG"
      },
      "execution_count": null,
      "outputs": []
    },
    {
      "cell_type": "markdown",
      "source": [
        "# 3 Agent : Discussion\n"
      ],
      "metadata": {
        "id": "HTF1ntMVIUUv"
      }
    },
    {
      "cell_type": "code",
      "source": [
        "import openai\n",
        "\n",
        "class NegotiationAgent:\n",
        "\n",
        "  def __init__(self, api_key, name):\n",
        "    self.api_key = api_key\n",
        "    self.name = name\n",
        "    self.conversation_history = []\n",
        "    openai.api_key = self.api_key\n",
        "\n",
        "  def add_to_conervsation(self, message):\n",
        "    self.conversation_history.append(message)\n",
        "\n",
        "  def generate_prompt(self):\n",
        "    prompt    = f'The following is the conversation with an HelpDesk AI '\n",
        "    for message in self.conversation_history:\n",
        "      prompt += message + \"\\n\"\n",
        "      return prompt\n",
        "\n",
        "  def negotiate(self, message):\n",
        "    self.add_to_conversation(message)\n",
        "    prompt = self.generate_prompt()\n",
        "    response = openai.Completion.create(engine = 'text-davinci-003', prompt = prompt, max_tokens = 100)\n",
        "    ai_response = response.choices[0].text.strip()\n",
        "    self.add_to_conversation(ai_response)\n",
        "    return ai_response\n",
        "\n",
        "class MediatorAgent:\n",
        "  def __intit__(self, api_key):\n",
        "    self.api_key = api_key\n",
        "    self.conversation_hostory = []\n",
        "    openai.api_key = self.api_key\n",
        "\n",
        "  def add_to_conervsation(self, message):\n",
        "    self.conversation_history.append(message)\n",
        "\n",
        "  def generate_prompt(self):\n",
        "    prompt    = f'The following is the conversation with an HelpDesk AI '\n",
        "    for message in self.conversation_history:\n",
        "      prompt += message + \"\\n\"\n",
        "      return prompt\n",
        "\n",
        "  def mediate(self, negotiation_agents):\n",
        "    for agent in negotiation_agents:\n",
        "      self.add_to_conversation(agent.conversation_history[-1])\n",
        "    prompt = self.generate_prompt()\n",
        "    response = response.choices[0].text.strip()\n",
        "    ai_response = response.choices[0].text.strip()\n",
        "    self.add_to_conversation(ai_response)\n",
        "    return ai_response\n",
        "\n",
        "agent1 = NegotiationAgent(\"api-key\", 'Party1')\n",
        "agent2 = NegotiationAgent(\"api-key\", 'Party2')\n",
        "mediator_agent = MediatorAgent(\"api-key\")\n",
        "\n",
        "negotiation1 = agent1.negotiate(\"I want to buy 100 Iphone in 1000 rs each\")\n",
        "negotiation2 = agent2.negotiate(\"We want to sell a Iphone rs 3000 \")\n",
        "\n",
        "mediation = mediator_agent([agent1,agent2])\n",
        "\n"
      ],
      "metadata": {
        "id": "2xMCdHoeIX9j"
      },
      "execution_count": 5,
      "outputs": []
    },
    {
      "cell_type": "markdown",
      "source": [
        "Agents that create temporally new Agents"
      ],
      "metadata": {
        "id": "9oCvcQhZQT-j"
      }
    },
    {
      "cell_type": "code",
      "source": [
        "# @title\n",
        "import openai\n",
        "\n",
        "class TaskAgent:\n",
        "  def __init__(self, api_key, task):\n",
        "    self.api_key = api_key\n",
        "    self.task = task\n",
        "    openai.api_key = self.api_key\n",
        "\n",
        "\n",
        "  def perform_task(self):\n",
        "       prompt = f'Ai, please perform the following task : {self.task}'\n",
        "       response = openai.Completion.create(engine='text-davinci-003', prompt = prompt, max_tokens=100)\n",
        "       return response.choices[0].text.strip()\n",
        "\n",
        "\n",
        "class ControlAgent:\n",
        "  def __init__(self, api_key):\n",
        "    self.api_key = api_key\n",
        "\n",
        "  def create_agent(self,task):\n",
        "    return TaskAgent(self.api_key,task)\n",
        "\n",
        "  def manage_task(self, task):\n",
        "    agent = self.create_agent(task)\n",
        "    result = agent.perform_task()\n",
        "    return result\n",
        "\n",
        "control_agent = ControlAgent('openai-api-key')\n",
        "\n",
        "result = control_agent.manage_task(\"Translate the following text to French: 'Hello world'\")\n"
      ],
      "metadata": {
        "id": "Vk7P3CYXRqG1"
      },
      "execution_count": null,
      "outputs": []
    },
    {
      "cell_type": "markdown",
      "source": [
        "Why to create the Agents?\n",
        "# Multi Agents LLMs\n"
      ],
      "metadata": {
        "id": "99VSIXx0TT6s"
      }
    },
    {
      "cell_type": "code",
      "source": [
        "import openai\n",
        "\n",
        "openai.api_key = 'api_key'\n",
        "\n",
        "class Agent:\n",
        "  def __init__(self, role, can_create_agents, can_halt_agents, plugins):\n",
        "    self.role = role\n",
        "    self.can_create_agents = can_create_agents\n",
        "    self.can_halt_agents = can_halt_agents\n",
        "    self.plugins = plugins\n",
        "    self.state = None\n",
        "\n",
        "  def generate_response(self, prompt):\n",
        "    response = openai.ChatCompletion.create(\n",
        "        model = 'gpt-3.5-turbo-0613',\n",
        "        messages = [\n",
        "            {\"role\" : \"system\", \"content\" : f\"You are a {self.role}\"},\n",
        "            {\"role\" : \"user\", \"content\" : prompt}\n",
        "        ],\n",
        "        functions = [\n",
        "            {\n",
        "                \"name\" : self.role,\n",
        "                \"description\": f\"Generates a response based on the role of {self.role}\",\n",
        "                \"input_schema\": {\n",
        "                    \"type\" : \"object\",\n",
        "                    \"properties\": {\n",
        "                        \"prompt\": {\"type\": \"string\", \"description\": \"The prompt for the Agent\"},\n",
        "                    },\n",
        "                    \"reuired\": [\"prompt\"],\n",
        "                },\n",
        "                \"output_schema\": {\n",
        "                    \"type\" : \"object\",\n",
        "                    \"properties\": {\n",
        "                        \"response\": {\"type\": \"string\", \"description\": \"The generated response\"},\n",
        "                    },\n",
        "                    \"reuired\": [\"response\"],\n",
        "                },\n",
        "            }\n",
        "        ]\n",
        "    )\n",
        "    assistant_messages = [message['content'] for message in response['messages'] if message['role'] == 'assistant']\n",
        "\n",
        "    return assistant_messages[-1] if assistant_messages else None\n",
        "\n",
        "    def create_agent(self, role, can_create_agents, can_halt_agents, plugins):\n",
        "      if self.can_create_agents:\n",
        "        return Agent(role, can_create_agents, can_halt_agents, plugins)\n",
        "      else:\n",
        "        raise Exception(\"This agent does not have the ability to create other agents\")\n",
        "\n",
        "     def halt_agent(self, agent):\n",
        "      if self.can_create_agents:\n",
        "        return Agent(role, can_create_agents, can_halt_agents, plugins)\n",
        "      else:\n",
        "        raise Exception(\"This agent does not have the ability to create other agents\")\n",
        "\n",
        "\n",
        "emotional_agent = Agent(\"Emotional Agent\", True, True, [\"Emotional language Generation\", \"Sentiment Analysis\"])\n",
        "factual_agent = Agent(\"Factual Agent\", True, True, [\"Fact-Based language Generation\", \"Logiacl reasoning\"])\n",
        "moderator_agent = Agent(\"Moderator Agent\", True, True, [\"Time Management\", \"Topic Introduction\"])\n",
        "rhetoric_agent = emotional_agent.create_agent(\" Agent\", False, False, [\"Emotional language Generation\", \"Sentiment Analysis\"])\n",
        "\n"
      ],
      "metadata": {
        "id": "aJsUeCUaTkjJ"
      },
      "execution_count": null,
      "outputs": []
    }
  ]
}